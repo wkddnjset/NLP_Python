{
 "cells": [
  {
   "cell_type": "markdown",
   "metadata": {},
   "source": [
    "## 확률\n",
    "\n",
    "- 이산확률 분포 \n",
    "    - 주사위를 던져서 나올 수 있는 확률\n",
    "    - 동전을 10번 던져서 앞면이 나올 수 있는 확률\n",
    "<p align=\"center\">\n",
    "<img src=\"../img/graph_1.png\">\n",
    "</p>\n",
    "- 연속확률 분포\n",
    "    - 연속된 실수 1~6까지의 숫자 중 5가 뽑힐 확률 : \\\\(\\frac{1}{\\infty}=0\\\\)"
   ]
  },
  {
   "cell_type": "markdown",
   "metadata": {},
   "source": [
    "#### 특정 구간에 속할 확률  \n",
    "### 확률밀도 함수 (Probbability Density Function, PDF)\n",
    "- 연속된 실수 1~6까지의 숫자 중 4~5사이의 숫자가 뽑힐 확률\n",
    "- 평균 0, 분산 1인 **표준정규분포(Standard normal distribution)**\n",
    "<p align=\"center\">\n",
    "<img src=\"../img/graph_2.png\">\n",
    "</p>"
   ]
  },
  {
   "cell_type": "markdown",
   "metadata": {},
   "source": [
    "- **표준정규분포의 확률 밀도 함수**(우측 사진) : \\\\(\\frac{1}{\\sqrt{12π}}e^{−z2/2}\\\\)"
   ]
  },
  {
   "cell_type": "markdown",
   "metadata": {},
   "source": [
    "### 정리\n",
    "연속사건의 경우 특정 사건이 일어날 확률은 모두 0이며,<br>\n",
    "어떤 구간에 속할 확률은 확률밀도 함수를 이용해서 구할 수 있다."
   ]
  },
  {
   "cell_type": "markdown",
   "metadata": {},
   "source": [
    "### 특정 사건이 일어날 가능성 (가능도[우도] : Likelihood)\n",
    "\n",
    "위 그래프의 \\\\({y}\\\\)값이 가능도\n",
    "- 가능도의 직관적 정의 : 확률분포함수의 \\\\({y}\\\\)값\n",
    "    - 셀 수 있는 사건 : **가능도 = 확률**\n",
    "    - 연속 사건 : **가능도\\\\(\\neq\\\\)확률, 가능도=PDF **"
   ]
  },
  {
   "cell_type": "markdown",
   "metadata": {},
   "source": [
    "#### 예시\n",
    "\n",
    "1. 주사위를 3번 던져 각각 1,3,6이 나올 확률 및 가능도\n",
    "    - 확률 : \\\\(\\frac{1}{6}\\times\\frac{1}{6}\\times\\frac{1}{6}=\\frac{1}{216}\\\\)\n",
    "    - 가능도 : \\\\(\\frac{1}{6}\\times\\frac{1}{6}\\times\\frac{1}{6}=\\frac{1}{216}\\\\)\n",
    "\n",
    "2. 동전을 10번 던지는 일은 3번 시행하여 앞면이 각각 2,5,7번 나올 확률 및 가능도\n",
    "    - 확률 : \\\\(0.044\\times0.246\\times0.117=0.001\\\\)\n",
    "    - 가능도 : \\\\(0.24\\times0.4\\times0.24=0.001\\\\)<br>\n",
    "    (정규분포의 확률밀도를 이용하여 계산)\n",
    "    "
   ]
  },
  {
   "cell_type": "markdown",
   "metadata": {},
   "source": [
    "### 최대 가능도 추정량(Maximum Likelihood Estimator, MLE)\n",
    "#### 예시\n",
    "앞이 나올 확률이 0.5가 아닌 동전을 1000번 던졌을 때의 확률<br>\n",
    "\n",
    "<strong style='font-size:15px'>1. 앞면이 나올 확률이 \\\\({p}\\\\)라면 1000번을 던져 앞이 400번,<br>&nbsp;&nbsp;&nbsp;\n",
    "뒤가 600번 나올 가능도(=확률)</strong><br> \\\\(L=\\\\)<sub>1000</sub>\\\\({C}\\\\)<sub>400</sub>\\\\({p}^{400}(1-p)^{600}\\\\), \\\\({p}=0.4\\\\)"
   ]
  },
  {
   "cell_type": "markdown",
   "metadata": {},
   "source": [
    "<strong style='font-size:15px'>2. L이 최대가 되는 \\\\({p}^{400}(1-p)^{600}\\\\)를 산술-기하 평균을 통해 구한다.</strong><br>\n",
    "\\\\(600=\\frac{3}{2}{p}\\times{400}+(1-p)\\times{600}\\ge1000\\times\\{\\frac{3}{2}^{400}(1-p)^{600}\\}^{\\frac{1}{1000}}\\\\)\n",
    "- 산술-기하 평균 : \\\\(\\frac{x1+x2}{2}>\\sqrt{{x1}{x2}}\\\\)"
   ]
  },
  {
   "cell_type": "markdown",
   "metadata": {},
   "source": [
    "<strong style='font-size:15px'>3. 따라서 \\\\({p}^{400}(1-p)^{600}\\\\)의 최댓값은 \\\\((\\frac{600}{1000})^{1000}\\times(\\frac{2}{3})^{400}\\\\)이 된다.  </strong>"
   ]
  },
  {
   "cell_type": "markdown",
   "metadata": {},
   "source": [
    "<strong style='font-size:15px'>4. L이 최대값이 될 때는 앞의 산술-기하평균 부등식의 등호조건이 성립할 때이므로<br> \\\\(\\frac{3}{2}{p}=1-p\\\\) 즉, \\\\({p}=0.4\\\\)가 된다. </strong>"
   ]
  },
  {
   "cell_type": "markdown",
   "metadata": {},
   "source": [
    "<p align=\"center\">\n",
    "<img src=\"../img/graph_3.png\">\n",
    "</p>"
   ]
  },
  {
   "cell_type": "markdown",
   "metadata": {},
   "source": [
    "## Reference\n",
    "\n",
    "- [확률분포에 대한 사전적 의미](https://ko.wikipedia.org/wiki/%ED%99%95%EB%A5%A0%EB%B6%84%ED%8F%AC) (위키백과)\n",
    "- [확률에 대한 전반적 설명](http://rpubs.com/Statdoc/204928)(블로그)"
   ]
  },
  {
   "cell_type": "code",
   "execution_count": null,
   "metadata": {
    "collapsed": true
   },
   "outputs": [],
   "source": []
  }
 ],
 "metadata": {
  "kernelspec": {
   "display_name": "Python 3",
   "language": "python",
   "name": "python3"
  },
  "language_info": {
   "codemirror_mode": {
    "name": "ipython",
    "version": 3
   },
   "file_extension": ".py",
   "mimetype": "text/x-python",
   "name": "python",
   "nbconvert_exporter": "python",
   "pygments_lexer": "ipython3",
   "version": "3.5.4"
  }
 },
 "nbformat": 4,
 "nbformat_minor": 2
}
