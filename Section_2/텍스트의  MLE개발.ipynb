{
 "cells": [
  {
   "cell_type": "markdown",
   "metadata": {},
   "source": [
    "### Maximum Entropy (최대 엔트로피)\n",
    "\n",
    "- 입력 (분류되지 않은 단어)\n",
    "- 결합 (분류되어진 단어)\n",
    "\n",
    "MLE는 텍스트에서 주어진 상황에 대한 확률 분포를 포함하는 \n",
    "freqdist를 생성하는데 사용된다.<br>\n",
    "param freqdist는 **확률 분포**의 기반이 되는 **도수분포**로 구성된다.\n",
    "- 확률분포 : 확률변수가 특정한 값을 가질 확률을 나타내는 함수\n",
    "> 이산확률분포 - 확률 질량 함수를 통해 분포를 표현<br>\n",
    "> 연속확률분포 - 확률 밀도 함수를 이용해 분포를 표현\n",
    "\n",
    "- 도수분포 : 주어진 상황을 몇개의 계급으로 나누고 계급별 출현 도수를 나타낸 함수"
   ]
  },
  {
   "cell_type": "code",
   "execution_count": null,
   "metadata": {
    "collapsed": true
   },
   "outputs": [],
   "source": []
  }
 ],
 "metadata": {
  "kernelspec": {
   "display_name": "Python 2",
   "language": "python",
   "name": "python2"
  },
  "language_info": {
   "codemirror_mode": {
    "name": "ipython",
    "version": 2
   },
   "file_extension": ".py",
   "mimetype": "text/x-python",
   "name": "python",
   "nbconvert_exporter": "python",
   "pygments_lexer": "ipython2",
   "version": "2.7.13"
  }
 },
 "nbformat": 4,
 "nbformat_minor": 2
}
